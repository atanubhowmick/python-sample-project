{
 "cells": [
  {
   "cell_type": "code",
   "execution_count": 2,
   "id": "b93dcf23",
   "metadata": {},
   "outputs": [
    {
     "name": "stdout",
     "output_type": "stream",
     "text": [
      "What is your name? At\n"
     ]
    }
   ],
   "source": [
    "name = input(\"What is your name? \")"
   ]
  },
  {
   "cell_type": "code",
   "execution_count": 3,
   "id": "8c6f9b18",
   "metadata": {},
   "outputs": [
    {
     "name": "stdout",
     "output_type": "stream",
     "text": [
      "Hi At\n"
     ]
    }
   ],
   "source": [
    "print(\"Hi \" + name)"
   ]
  },
  {
   "cell_type": "code",
   "execution_count": 4,
   "id": "2e7eedca",
   "metadata": {},
   "outputs": [
    {
     "name": "stdout",
     "output_type": "stream",
     "text": [
      "Name AtAtAtAt\n"
     ]
    }
   ],
   "source": [
    "print(\"Name\", name * 4)"
   ]
  },
  {
   "cell_type": "code",
   "execution_count": 5,
   "id": "3ecfa28a",
   "metadata": {},
   "outputs": [
    {
     "name": "stdout",
     "output_type": "stream",
     "text": [
      "Hi At\n"
     ]
    }
   ],
   "source": [
    "print(\"Hi\", name)"
   ]
  },
  {
   "cell_type": "code",
   "execution_count": 6,
   "id": "1b3575cf",
   "metadata": {},
   "outputs": [
    {
     "name": "stdout",
     "output_type": "stream",
     "text": [
      "Age: 10\n",
      "Age in month:  101010101010101010101010\n"
     ]
    }
   ],
   "source": [
    "age = input(\"Age: \")\n",
    "print(\"Age in month: \", age*12)"
   ]
  },
  {
   "cell_type": "code",
   "execution_count": 7,
   "id": "60f24b6f",
   "metadata": {},
   "outputs": [
    {
     "name": "stdout",
     "output_type": "stream",
     "text": [
      "Age in month:  120\n"
     ]
    }
   ],
   "source": [
    "ageInt = int(age)\n",
    "print(\"Age in month: \", ageInt*12)"
   ]
  },
  {
   "cell_type": "code",
   "execution_count": 8,
   "id": "c906b658",
   "metadata": {},
   "outputs": [],
   "source": [
    "name = \"Atanu\"\n",
    "age = 32\n",
    "workExp = 9.5\n",
    "isValid = True"
   ]
  },
  {
   "cell_type": "code",
   "execution_count": 9,
   "id": "f84a8a37",
   "metadata": {},
   "outputs": [
    {
     "data": {
      "text/plain": [
       "str"
      ]
     },
     "execution_count": 9,
     "metadata": {},
     "output_type": "execute_result"
    }
   ],
   "source": [
    "type(name)"
   ]
  },
  {
   "cell_type": "code",
   "execution_count": 10,
   "id": "6d056b00",
   "metadata": {},
   "outputs": [
    {
     "data": {
      "text/plain": [
       "int"
      ]
     },
     "execution_count": 10,
     "metadata": {},
     "output_type": "execute_result"
    }
   ],
   "source": [
    "type(age)"
   ]
  },
  {
   "cell_type": "code",
   "execution_count": 11,
   "id": "eefc9aca",
   "metadata": {},
   "outputs": [
    {
     "data": {
      "text/plain": [
       "float"
      ]
     },
     "execution_count": 11,
     "metadata": {},
     "output_type": "execute_result"
    }
   ],
   "source": [
    "type(workExp)"
   ]
  },
  {
   "cell_type": "code",
   "execution_count": 12,
   "id": "a4858b55",
   "metadata": {},
   "outputs": [
    {
     "data": {
      "text/plain": [
       "bool"
      ]
     },
     "execution_count": 12,
     "metadata": {},
     "output_type": "execute_result"
    }
   ],
   "source": [
    "type(isValid)"
   ]
  },
  {
   "cell_type": "code",
   "execution_count": 14,
   "id": "07b14372",
   "metadata": {},
   "outputs": [
    {
     "data": {
      "text/plain": [
       "str"
      ]
     },
     "execution_count": 14,
     "metadata": {},
     "output_type": "execute_result"
    }
   ],
   "source": [
    "age_str = str(age)\n",
    "type(age_str)"
   ]
  }
 ],
 "metadata": {
  "kernelspec": {
   "display_name": "Python 3 (ipykernel)",
   "language": "python",
   "name": "python3"
  },
  "language_info": {
   "codemirror_mode": {
    "name": "ipython",
    "version": 3
   },
   "file_extension": ".py",
   "mimetype": "text/x-python",
   "name": "python",
   "nbconvert_exporter": "python",
   "pygments_lexer": "ipython3",
   "version": "3.11.5"
  }
 },
 "nbformat": 4,
 "nbformat_minor": 5
}
