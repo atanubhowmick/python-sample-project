{
 "cells": [
  {
   "cell_type": "code",
   "execution_count": 7,
   "metadata": {},
   "outputs": [],
   "source": [
    "# List - maintains order, mutable, and allow duplicate values."
   ]
  },
  {
   "cell_type": "code",
   "execution_count": 8,
   "metadata": {},
   "outputs": [
    {
     "name": "stdout",
     "output_type": "stream",
     "text": [
      "[8, 2, 6, 4, 10]\n"
     ]
    }
   ],
   "source": [
    "myList = [8, 2, 6, 4, 10]\n",
    "print(myList)"
   ]
  },
  {
   "cell_type": "code",
   "execution_count": 13,
   "metadata": {},
   "outputs": [
    {
     "name": "stdout",
     "output_type": "stream",
     "text": [
      "['Mr', 30, 'SA', 100.2, 'Z']\n"
     ]
    }
   ],
   "source": [
    "# Supports multiple data types\n",
    "myList = ['Mr', 30, \"SA\", 100.2, 'Z']\n",
    "print(myList)"
   ]
  },
  {
   "cell_type": "code",
   "execution_count": 14,
   "metadata": {},
   "outputs": [
    {
     "name": "stdout",
     "output_type": "stream",
     "text": [
      "<class 'list'>\n"
     ]
    }
   ],
   "source": [
    "print(type(myList))"
   ]
  },
  {
   "cell_type": "code",
   "execution_count": 16,
   "metadata": {},
   "outputs": [
    {
     "name": "stdout",
     "output_type": "stream",
     "text": [
      "['apple', 'banana', 'cherry']\n"
     ]
    }
   ],
   "source": [
    "# List from touple \n",
    "fruits = (\"apple\", \"banana\", \"cherry\")\n",
    "thislist = list(fruits)\n",
    "print(thislist)"
   ]
  },
  {
   "cell_type": "code",
   "execution_count": 140,
   "metadata": {},
   "outputs": [
    {
     "data": {
      "text/plain": [
       "8"
      ]
     },
     "execution_count": 140,
     "metadata": {},
     "output_type": "execute_result"
    }
   ],
   "source": [
    "# Length\n",
    "myList = [1, 2, 3, 4, 5, 6, 7, 8]\n",
    "len(myList)"
   ]
  },
  {
   "cell_type": "code",
   "execution_count": 145,
   "metadata": {},
   "outputs": [
    {
     "name": "stdout",
     "output_type": "stream",
     "text": [
      "6\n"
     ]
    }
   ],
   "source": [
    "#Find index\n",
    "print(myList.index(7))"
   ]
  },
  {
   "cell_type": "code",
   "execution_count": 22,
   "metadata": {},
   "outputs": [
    {
     "name": "stdout",
     "output_type": "stream",
     "text": [
      "[3, 4, 5, 6, 7, 8]\n"
     ]
    }
   ],
   "source": [
    "# Start from index\n",
    "myList = [1, 2, 3, 4, 5, 6, 7, 8]\n",
    "list1 = myList[2:]\n",
    "print(list1)"
   ]
  },
  {
   "cell_type": "code",
   "execution_count": 125,
   "metadata": {},
   "outputs": [
    {
     "name": "stdout",
     "output_type": "stream",
     "text": [
      "[3, 4, 5]\n"
     ]
    }
   ],
   "source": [
    "# Start & end from index (Slicing)\n",
    "myList = [1, 2, 3, 4, 5, 6, 7, 8]\n",
    "list2 = myList[2:5]\n",
    "print(list2)"
   ]
  },
  {
   "cell_type": "code",
   "execution_count": 35,
   "metadata": {},
   "outputs": [
    {
     "name": "stdout",
     "output_type": "stream",
     "text": [
      "[1, 2, 3, 4, 5]\n"
     ]
    }
   ],
   "source": [
    "# Start & end from index\n",
    "myList = [1, 2, 3, 4, 5, 6, 7, 8]\n",
    "list3 = myList[:5]\n",
    "print(list3)"
   ]
  },
  {
   "cell_type": "code",
   "execution_count": 43,
   "metadata": {},
   "outputs": [
    {
     "name": "stdout",
     "output_type": "stream",
     "text": [
      "12\n",
      "[30, 40, 50, 60, 70, 80, 90, 100, 110]\n",
      "[30, 60, 90]\n"
     ]
    }
   ],
   "source": [
    "# Start & end from index and increment\n",
    "myList = [10, 20, 30, 40, 50, 60, 70, 80, 90, 100, 110, 120]\n",
    "print(len(myList))\n",
    "print(myList[2:11])\n",
    "list4 = myList[2:11:3]\n",
    "print(list4)"
   ]
  },
  {
   "cell_type": "code",
   "execution_count": 50,
   "metadata": {},
   "outputs": [
    {
     "name": "stdout",
     "output_type": "stream",
     "text": [
      "[10, 20, 30, 40, 123, 60, 70, 80, 90, 100, 110, 120, 'Text', 10, 20]\n"
     ]
    }
   ],
   "source": [
    "# Update list element\n",
    "newList[4] = 123\n",
    "print(newList)"
   ]
  },
  {
   "cell_type": "code",
   "execution_count": 3,
   "metadata": {},
   "outputs": [
    {
     "name": "stdout",
     "output_type": "stream",
     "text": [
      "120\n",
      "80\n",
      "[80, 90, 100, 110]\n",
      "[]\n",
      "[10, 20, 30, 40, 50, 60, 70, 80, 90, 100, 110]\n",
      "[10, 50, 90]\n"
     ]
    }
   ],
   "source": [
    "# Negetive Index\n",
    "myList = [10, 20, 30, 40, 50, 60, 70, 80, 90, 100, 110, 120]\n",
    "print(myList[-1])\n",
    "print(myList[-5])\n",
    "print(myList[-5:-1])\n",
    "print(myList[-1:-5])\n",
    "print(myList[-12:-1])\n",
    "print(myList[-12:-1:4])"
   ]
  },
  {
   "cell_type": "code",
   "execution_count": 7,
   "metadata": {
    "scrolled": true
   },
   "outputs": [
    {
     "name": "stdout",
     "output_type": "stream",
     "text": [
      "[10, 20, 30, 40, 50, 60, 25, 30, 35, 40, 72]\n",
      "Occurence:  2\n",
      "Occurence:  0\n",
      "[10, 20, 30, 40, 45, 50, 60, 25, 30, 35, 40, 72]\n",
      "[10, 20, 30, 40, 45, 50, 60, 25, 30, 35, 40, 72, 'A', 'B', 'C']\n"
     ]
    },
    {
     "data": {
      "text/plain": [
       "[10, 20, 30, 40, 45, 50, 60, 25, 30, 35, 40, 72, 'A', 'B', 'C', 'a', 'b']"
      ]
     },
     "execution_count": 7,
     "metadata": {},
     "output_type": "execute_result"
    }
   ],
   "source": [
    "# Methods of list\n",
    "myList = [10, 20, 30, 40, 50, 60, 25, 30, 35, 40]\n",
    "myList.append(72)\n",
    "print(myList)\n",
    "\n",
    "# count method to find number of occurence of an element\n",
    "cnt = myList.count(40)\n",
    "print(\"Occurence: \", cnt)\n",
    "\n",
    "cnt = myList.count(45)\n",
    "print(\"Occurence: \", cnt)\n",
    "\n",
    "# Insert add the elemnt in the given position. Append add the element at the end\n",
    "myList.insert(4 , 45)\n",
    "print(myList)\n",
    "\n",
    "# '+' and extend are same\n",
    "alphabets = ('A', 'B', 'C')\n",
    "myList.extend(alphabets)\n",
    "print(myList)\n",
    "\n",
    "myList + ['a', 'b']"
   ]
  },
  {
   "cell_type": "code",
   "execution_count": 10,
   "metadata": {},
   "outputs": [
    {
     "name": "stdout",
     "output_type": "stream",
     "text": [
      "[10, 20, 30, 50, 60, 25, 30, 40, 55]\n",
      "Pop Item: 55\n",
      "[10, 20, 30, 50, 60, 25, 30, 40]\n",
      "Pop Item: 20\n",
      "[10, 30, 50, 60, 25, 30, 40]\n",
      "[10, 30, 60, 25, 30, 40]\n"
     ]
    }
   ],
   "source": [
    "# Remove List Items\n",
    "myList = [10, 20, 30, 40, 50, 60, 25, 30, 40, 55]\n",
    "\n",
    "# Remove by element value\n",
    "myList.remove(40) \n",
    "print(myList)\n",
    "\n",
    "# Pop will delete from last index\n",
    "popItem = myList.pop()\n",
    "print(\"Pop Item:\", popItem)\n",
    "print(myList)\n",
    "\n",
    "# Pop from given index\n",
    "popItem = myList.pop(1)\n",
    "print(\"Pop Item:\", popItem)\n",
    "print(myList)\n",
    "\n",
    "# Delete from given index\n",
    "del myList[2] \n",
    "print(myList)"
   ]
  },
  {
   "cell_type": "code",
   "execution_count": 9,
   "metadata": {},
   "outputs": [
    {
     "name": "stdout",
     "output_type": "stream",
     "text": [
      "[1, 2, 4, 'A', 'B', 20]\n",
      "[1, 2, 4, 'A', 'B', 20]\n",
      "None\n",
      "[1, 2, 4, 'A', 'B', 20, ['A', 'B', 20]]\n",
      "None\n"
     ]
    }
   ],
   "source": [
    "# Add another list\n",
    "\n",
    "# 1. By Concat\n",
    "myList = [1, 2, 4]\n",
    "anotherList = [\"A\", \"B\", 20]\n",
    "newList = myList + anotherList\n",
    "print(newList)\n",
    "\n",
    "#2. By Extend - Inplace addition\n",
    "newList1 = myList.extend(anotherList)\n",
    "print(myList)\n",
    "print(newList1)\n",
    "\n",
    "#2. By Append - Inplace addition - append whole list in as the last element\n",
    "newList2 = myList.append(anotherList)\n",
    "print(myList)\n",
    "print(newList2)"
   ]
  },
  {
   "cell_type": "code",
   "execution_count": 102,
   "metadata": {},
   "outputs": [
    {
     "name": "stdout",
     "output_type": "stream",
     "text": [
      "10\n",
      "30\n",
      "60\n",
      "25\n",
      "30\n",
      "35\n"
     ]
    }
   ],
   "source": [
    "# Loop within list\n",
    "for element in myList:\n",
    "    print(element)"
   ]
  },
  {
   "cell_type": "code",
   "execution_count": 105,
   "metadata": {},
   "outputs": [
    {
     "name": "stdout",
     "output_type": "stream",
     "text": [
      "10\n",
      "30\n",
      "60\n",
      "25\n",
      "30\n",
      "35\n"
     ]
    }
   ],
   "source": [
    "# Loop by using range\n",
    "for i in range(len(myList)):\n",
    "  print(myList[i])"
   ]
  },
  {
   "cell_type": "code",
   "execution_count": 109,
   "metadata": {},
   "outputs": [
    {
     "name": "stdout",
     "output_type": "stream",
     "text": [
      "10\n",
      "30\n",
      "60\n",
      "25\n",
      "30\n",
      "35\n"
     ]
    }
   ],
   "source": [
    "i = 0\n",
    "while i < len(myList):\n",
    "  print(myList[i])\n",
    "  i = i + 1"
   ]
  },
  {
   "cell_type": "code",
   "execution_count": 124,
   "metadata": {},
   "outputs": [
    {
     "name": "stdout",
     "output_type": "stream",
     "text": [
      "[10, 30, 60, 25, 30, 35]\n",
      "['APPLE', 'BANANA', 'GRAPES']\n",
      "[0, 1, 2, 3, 4]\n"
     ]
    }
   ],
   "source": [
    "# Looping Using List Comprehension\n",
    "list1 = [x for x in myList]\n",
    "print(list1)\n",
    "\n",
    "fruits = [\"apple\", \"banana\", \"grapes\"]\n",
    "list2 = [fruit.upper() for fruit in fruits]\n",
    "print(list2)\n",
    "\n",
    "list3 = [x for x in range(10) if x < 5]\n",
    "print(list3)"
   ]
  },
  {
   "cell_type": "code",
   "execution_count": 119,
   "metadata": {},
   "outputs": [
    {
     "name": "stdout",
     "output_type": "stream",
     "text": [
      "[102, 104, 106, 108, 110, 112, 114, 116, 118, 120, 122, 124, 126, 128, 130, 132, 134, 136, 138, 140, 142, 144, 146, 148, 150, 152, 154, 156, 158, 160, 162, 164, 166, 168, 170, 172, 174, 176, 178, 180, 182, 184, 186, 188, 190, 192, 194, 196, 198, 200]\n",
      "[101, 103, 105, 107, 109, 111, 113, 115, 117, 119, 121, 123, 125, 127, 129, 131, 133, 135, 137, 139, 141, 143, 145, 147, 149, 151, 153, 155, 157, 159, 161, 163, 165, 167, 169, 171, 173, 175, 177, 179, 181, 183, 185, 187, 189, 191, 193, 195, 197, 199]\n"
     ]
    }
   ],
   "source": [
    "# Create a lit of even integers from 101 to 200\n",
    "\n",
    "evenList = []\n",
    "for i in range(101, 201):\n",
    "    if(i %2 == 0):\n",
    "        evenList.append(i)\n",
    "        \n",
    "print(evenList)\n",
    "\n",
    "# Another way\n",
    "evenList1 = []\n",
    "for i in range(101, 201, 2):\n",
    "    evenList1.append(i)\n",
    "        \n",
    "print(evenList1)"
   ]
  },
  {
   "cell_type": "code",
   "execution_count": 127,
   "metadata": {},
   "outputs": [
    {
     "name": "stdout",
     "output_type": "stream",
     "text": [
      "[2, 3, 5, 8, 9]\n",
      "[9, 8, 5, 3, 2]\n"
     ]
    }
   ],
   "source": [
    "# Sort\n",
    "mySortedList = [5,2,9,3,8]\n",
    "mySortedList.sort()\n",
    "print(mySortedList)\n",
    "\n",
    "# Reverse sort\n",
    "mySortedList.sort(reverse = True)\n",
    "print(mySortedList)"
   ]
  },
  {
   "cell_type": "code",
   "execution_count": 136,
   "metadata": {},
   "outputs": [
    {
     "name": "stdout",
     "output_type": "stream",
     "text": [
      "['Guava', 'Kiwi', 'Orange', 'banana', 'cherry']\n",
      "['banana', 'cherry', 'Guava', 'Kiwi', 'Orange']\n",
      "['banana', 'cherry', 'Guava', 'Kiwi', 'Orange']\n"
     ]
    }
   ],
   "source": [
    "# Custom sort\n",
    "fruitList = [\"banana\", \"Orange\", \"Kiwi\", \"cherry\", \"Guava\"]\n",
    "fruitList.sort()\n",
    "print(fruitList)\n",
    "\n",
    "fruitList.sort(key = str.lower)\n",
    "print(fruitList)\n",
    "\n",
    "# Sort by Custom function\n",
    "def myFunction(fruit):\n",
    "    return fruit.lower()\n",
    "\n",
    "fruitList.sort(key = myFunction)\n",
    "print(fruitList)"
   ]
  },
  {
   "cell_type": "code",
   "execution_count": 11,
   "metadata": {},
   "outputs": [
    {
     "name": "stdout",
     "output_type": "stream",
     "text": [
      "['Banana', 'Orange', 'Kiwi', 'Cherry', 'Guava']\n",
      "['Banana', 'Cherry', 'Guava', 'Kiwi', 'Orange']\n"
     ]
    }
   ],
   "source": [
    "# Sorted Method\n",
    "fruitList = [\"Banana\", \"Orange\", \"Kiwi\", \"Cherry\", \"Guava\"]\n",
    "sortedList = sorted(fruitList)\n",
    "print(fruitList)\n",
    "print(sortedList)"
   ]
  },
  {
   "cell_type": "code",
   "execution_count": 139,
   "metadata": {},
   "outputs": [
    {
     "name": "stdout",
     "output_type": "stream",
     "text": [
      "['apple', 'banana', 'cherry']\n",
      "['apple', 'banana', 'cherry']\n"
     ]
    }
   ],
   "source": [
    "# Copy List\n",
    "list1 = [\"apple\", \"banana\", \"cherry\"]\n",
    "list2 = list1.copy()\n",
    "print(list2)\n",
    "\n",
    "#Using method\n",
    "list3 = list(list1)\n",
    "print(list3)"
   ]
  },
  {
   "cell_type": "code",
   "execution_count": 141,
   "metadata": {},
   "outputs": [
    {
     "name": "stdout",
     "output_type": "stream",
     "text": [
      "[5, 8, 12, 20, 25, 30]\n"
     ]
    }
   ],
   "source": [
    "# Remove duplicate from list\n",
    "duplicateList = [5, 8, 12, 8, 20, 25, 12, 30]\n",
    "updatedList = []\n",
    "for element in duplicateList:\n",
    "    if element not in updatedList:\n",
    "        updatedList.append(element)\n",
    "        \n",
    "print(updatedList)"
   ]
  },
  {
   "cell_type": "code",
   "execution_count": 15,
   "metadata": {},
   "outputs": [
    {
     "name": "stdout",
     "output_type": "stream",
     "text": [
      "Enter name: hh\n",
      "Enter name: kk\n",
      "Enter name: mm\n",
      "Enter name: kk\n",
      "Enter name: jj\n",
      "Enter name: pp\n",
      "h\n",
      "k\n",
      "m\n",
      "k\n",
      "j\n",
      "p\n"
     ]
    }
   ],
   "source": [
    "nameList = []\n",
    "for x in range(6):\n",
    "    name = input(\"Enter name: \")\n",
    "    nameList.append(name)\n",
    "    \n",
    "for name in nameList:\n",
    "    print(name[0])"
   ]
  },
  {
   "cell_type": "code",
   "execution_count": null,
   "metadata": {},
   "outputs": [],
   "source": []
  }
 ],
 "metadata": {
  "kernelspec": {
   "display_name": "Python 3 (ipykernel)",
   "language": "python",
   "name": "python3"
  },
  "language_info": {
   "codemirror_mode": {
    "name": "ipython",
    "version": 3
   },
   "file_extension": ".py",
   "mimetype": "text/x-python",
   "name": "python",
   "nbconvert_exporter": "python",
   "pygments_lexer": "ipython3",
   "version": "3.11.5"
  }
 },
 "nbformat": 4,
 "nbformat_minor": 4
}
