{
 "cells": [
  {
   "cell_type": "code",
   "execution_count": 20,
   "metadata": {},
   "outputs": [],
   "source": [
    "class MyFisrtClass:\n",
    "    def hello(self):\n",
    "        print('Hello! Welcome to Python')"
   ]
  },
  {
   "cell_type": "code",
   "execution_count": 21,
   "metadata": {},
   "outputs": [],
   "source": [
    "my_first_class = MyFisrtClass()"
   ]
  },
  {
   "cell_type": "code",
   "execution_count": 22,
   "metadata": {},
   "outputs": [
    {
     "data": {
      "text/plain": [
       "__main__.MyFisrtClass"
      ]
     },
     "execution_count": 22,
     "metadata": {},
     "output_type": "execute_result"
    }
   ],
   "source": [
    "type(my_first_class)"
   ]
  },
  {
   "cell_type": "code",
   "execution_count": 23,
   "metadata": {},
   "outputs": [
    {
     "name": "stdout",
     "output_type": "stream",
     "text": [
      "Hello! Welcome to Python\n"
     ]
    }
   ],
   "source": [
    "my_first_class.hello()"
   ]
  },
  {
   "cell_type": "code",
   "execution_count": 24,
   "metadata": {},
   "outputs": [],
   "source": [
    "# Use self in every method. This is to differenciate \n",
    "# between method and Function\n",
    "# __init__ is actually constructor in Java\n",
    "# 'self' keyward is equilvant to 'this' keyward in Java"
   ]
  },
  {
   "cell_type": "code",
   "execution_count": 25,
   "metadata": {},
   "outputs": [],
   "source": [
    "class MyFirstDTO():\n",
    "    def __init__(self, firstLang, secondLang):\n",
    "        self.firstLangname = firstLang\n",
    "        self.secondlangName = secondLang\n",
    "    \n",
    "    def printAll(self):\n",
    "        print('After Learning ' + self.firstLangname)\n",
    "        print('Welcome to ' + self.secondlangName)"
   ]
  },
  {
   "cell_type": "code",
   "execution_count": 26,
   "metadata": {},
   "outputs": [
    {
     "data": {
      "text/plain": [
       "__main__.MyFirstDTO"
      ]
     },
     "execution_count": 26,
     "metadata": {},
     "output_type": "execute_result"
    }
   ],
   "source": [
    "my_first_dto = MyFirstDTO(firstLang = 'Java', secondLang = 'Python')\n",
    "type(my_first_dto)"
   ]
  },
  {
   "cell_type": "code",
   "execution_count": 27,
   "metadata": {},
   "outputs": [
    {
     "name": "stdout",
     "output_type": "stream",
     "text": [
      "Java\n",
      "Python\n",
      "After Learning Java\n",
      "Welcome to Python\n"
     ]
    }
   ],
   "source": [
    "print(my_first_dto.firstLangname)\n",
    "print(my_first_dto.secondlangName)\n",
    "my_first_dto.printAll()"
   ]
  },
  {
   "cell_type": "code",
   "execution_count": 28,
   "metadata": {},
   "outputs": [
    {
     "name": "stdout",
     "output_type": "stream",
     "text": [
      "Bengali\n",
      "English\n",
      "After Learning Bengali\n",
      "Welcome to English\n"
     ]
    }
   ],
   "source": [
    "my_second_dto = MyFirstDTO('Bengali', 'English')\n",
    "print(my_second_dto.firstLangname)\n",
    "print(my_second_dto.secondlangName)\n",
    "my_second_dto.printAll()"
   ]
  },
  {
   "cell_type": "code",
   "execution_count": 29,
   "metadata": {},
   "outputs": [],
   "source": [
    "class Employee:\n",
    "    \n",
    "    # class variable\n",
    "    company = 'Test.org'\n",
    "    \n",
    "    def __init__(self, name, age, isAssigned):\n",
    "        self.empName = name\n",
    "        self.empAge = age\n",
    "        self.isAssigned = isAssigned\n",
    "    \n",
    "    def getDetails(self, salary):\n",
    "        print(self.empName)\n",
    "        print(self.empAge)\n",
    "        print(self.isAssigned)\n",
    "        print(salary)\n",
    "        print(Employee.company)"
   ]
  },
  {
   "cell_type": "code",
   "execution_count": 30,
   "metadata": {},
   "outputs": [
    {
     "name": "stdout",
     "output_type": "stream",
     "text": [
      "Atanu\n",
      "30\n",
      "True\n",
      "5000\n",
      "Test.org\n",
      "Test.org\n"
     ]
    }
   ],
   "source": [
    "employee = Employee('Atanu', 30, True)\n",
    "employee.getDetails(5000)\n",
    "print(employee.company)"
   ]
  },
  {
   "cell_type": "code",
   "execution_count": 31,
   "metadata": {},
   "outputs": [
    {
     "name": "stdout",
     "output_type": "stream",
     "text": [
      "MyOrg\n"
     ]
    }
   ],
   "source": [
    "# Update in object level\n",
    "employee.company = 'MyOrg'\n",
    "print(employee.company)"
   ]
  },
  {
   "cell_type": "code",
   "execution_count": 17,
   "metadata": {},
   "outputs": [
    {
     "name": "stdout",
     "output_type": "stream",
     "text": [
      "MyOrg\n",
      "ABC.org\n"
     ]
    }
   ],
   "source": [
    "# Update in the class variable (class level)\n",
    "Employee.company = \"ABC.org\"\n",
    "print(employee.company)\n",
    "\n",
    "employee1 = Employee('Xyz', 40, False)\n",
    "print(employee1.company)"
   ]
  },
  {
   "cell_type": "code",
   "execution_count": 52,
   "metadata": {},
   "outputs": [],
   "source": [
    "class Student:\n",
    "    # class variables\n",
    "    school_name = 'ABC School'\n",
    "\n",
    "    # constructor\n",
    "    def __init__(self, name, age):\n",
    "        # instance variables\n",
    "        self.name = name\n",
    "        self.age = age\n",
    "\n",
    "    # instance variables\n",
    "    def show(self):\n",
    "        print(self.name, self.age, Student.school_name)\n",
    "\n",
    "    @classmethod\n",
    "    def change_School(cls, name):\n",
    "        cls.school_name = name\n",
    "\n",
    "    @staticmethod\n",
    "    def find_notes(subject_name):\n",
    "        print(\"Notes present for\", subject_name)\n",
    "        return ['chapter 1', 'chapter 2', 'chapter 3']"
   ]
  },
  {
   "cell_type": "code",
   "execution_count": 53,
   "metadata": {},
   "outputs": [
    {
     "name": "stdout",
     "output_type": "stream",
     "text": [
      "Jessa 12 ABC School\n",
      "Jessa 12 West New York School\n"
     ]
    },
    {
     "data": {
      "text/plain": [
       "<function __main__.Student.find_notes(subject_name)>"
      ]
     },
     "execution_count": 53,
     "metadata": {},
     "output_type": "execute_result"
    }
   ],
   "source": [
    "# create object & call object method\n",
    "jessa = Student('Jessa', 12)\n",
    "jessa.show()\n",
    "\n",
    "# Call class level method by object\n",
    "jessa.change_School('West New York School')\n",
    "jessa.show()\n",
    "jessa.find_notes"
   ]
  },
  {
   "cell_type": "code",
   "execution_count": 54,
   "metadata": {},
   "outputs": [
    {
     "name": "stdout",
     "output_type": "stream",
     "text": [
      "Harry 12 West New York School\n",
      "Jessa 12 East Atlanta School\n"
     ]
    }
   ],
   "source": [
    "harry = Student('Harry', 12)\n",
    "harry.show()\n",
    "\n",
    "# Call class method using the class\n",
    "Student.change_School('East Atlanta School')\n",
    "jessa.show()"
   ]
  },
  {
   "cell_type": "code",
   "execution_count": 56,
   "metadata": {},
   "outputs": [
    {
     "name": "stdout",
     "output_type": "stream",
     "text": [
      "Notes present for Math\n",
      "Notes present for Math\n"
     ]
    },
    {
     "data": {
      "text/plain": [
       "['chapter 1', 'chapter 2', 'chapter 3']"
      ]
     },
     "execution_count": 56,
     "metadata": {},
     "output_type": "execute_result"
    }
   ],
   "source": [
    "# call static method using the class\n",
    "Student.find_notes('Math')\n",
    "\n",
    "# call static method using the object\n",
    "jessa.find_notes('Math')"
   ]
  },
  {
   "cell_type": "code",
   "execution_count": 57,
   "metadata": {},
   "outputs": [],
   "source": [
    "# Inheritance \n",
    "class Animal():\n",
    "    \n",
    "    def __init__(self):\n",
    "        print(\"Animal created\")\n",
    "    \n",
    "    def run(self):\n",
    "        print('Animal run')\n",
    "        \n",
    "    def eat(self):\n",
    "        print('Animal eat')"
   ]
  },
  {
   "cell_type": "code",
   "execution_count": 59,
   "metadata": {},
   "outputs": [],
   "source": [
    "class Dog (Animal):\n",
    "    def __init__(self):\n",
    "        Animal.__init__(self)\n",
    "        print('Dog created')\n",
    "    \n",
    "    def eat(self):\n",
    "        print('Dog eat')\n",
    "        \n",
    "    def bark(self):\n",
    "        print('Dog bark')"
   ]
  },
  {
   "cell_type": "code",
   "execution_count": 60,
   "metadata": {},
   "outputs": [
    {
     "name": "stdout",
     "output_type": "stream",
     "text": [
      "Animal created\n",
      "Dog created\n",
      "Animal run\n",
      "Dog eat\n",
      "Dog bark\n"
     ]
    }
   ],
   "source": [
    "myDog = Dog()\n",
    "\n",
    "myDog.run()\n",
    "myDog.eat()\n",
    "myDog.bark()"
   ]
  },
  {
   "cell_type": "code",
   "execution_count": 61,
   "metadata": {},
   "outputs": [],
   "source": [
    "class Cat (Animal):\n",
    "    def __init__(self):\n",
    "        Animal.__init__(self)\n",
    "        print('Cat created')\n",
    "    \n",
    "    def eat(self):\n",
    "        print('Cat eat')\n",
    "        \n",
    "    def meow(self):\n",
    "        print('Cat do meow')"
   ]
  },
  {
   "cell_type": "code",
   "execution_count": 64,
   "metadata": {},
   "outputs": [
    {
     "name": "stdout",
     "output_type": "stream",
     "text": [
      "Animal created\n",
      "Cat created\n",
      "Cat do meow\n"
     ]
    }
   ],
   "source": [
    "myCat = Cat()\n",
    "myCat.meow()"
   ]
  },
  {
   "cell_type": "code",
   "execution_count": 63,
   "metadata": {},
   "outputs": [
    {
     "name": "stdout",
     "output_type": "stream",
     "text": [
      "<class '__main__.Dog'>\n",
      "<class '__main__.Cat'>\n"
     ]
    }
   ],
   "source": [
    "print(type(myDog))\n",
    "print(type(myCat))"
   ]
  },
  {
   "cell_type": "code",
   "execution_count": 65,
   "metadata": {},
   "outputs": [],
   "source": [
    "# abstract class with abstract method 'eat'\n",
    "\n",
    "class Animal():\n",
    "    \n",
    "    def __init__(self):\n",
    "        print(\"Animal created\")\n",
    "    \n",
    "    def run(self):\n",
    "        print('Animal run')\n",
    "        \n",
    "    def eat(self):\n",
    "        raise NotImplementedError('Subclass must implement this method')"
   ]
  },
  {
   "cell_type": "code",
   "execution_count": 66,
   "metadata": {},
   "outputs": [],
   "source": [
    "# And __MethodName__ represent special method\n",
    "# It can be called through default functions\n",
    "\n",
    "class Dog (Animal):\n",
    "    def __init__(self):\n",
    "        Animal.__init__(self)\n",
    "        print('Dog created')\n",
    "    \n",
    "    def eat(self):\n",
    "        print('Dog eat')\n",
    "        \n",
    "    def bark(self):\n",
    "        print('Dog bark')\n",
    "    \n",
    "    # Overriding default method\n",
    "    def __len__(self):\n",
    "        print('3 Feet')\n",
    "        return 3"
   ]
  },
  {
   "cell_type": "code",
   "execution_count": 67,
   "metadata": {},
   "outputs": [],
   "source": [
    "class Cat (Animal):\n",
    "    def __init__(self):\n",
    "        Animal.__init__(self)\n",
    "        print('Cat created')\n",
    "    \n",
    "    def eat(self):\n",
    "        print('Cat eat Fish')\n",
    "        \n",
    "    def meow(self):\n",
    "        print('Cat do Meow')\n",
    "        \n",
    "    # # Overriding default method. This is like toString method    \n",
    "    def __str__(self):\n",
    "        return 'This is a cat. Which eat Fish and do Meow.'"
   ]
  },
  {
   "cell_type": "code",
   "execution_count": 68,
   "metadata": {},
   "outputs": [
    {
     "name": "stdout",
     "output_type": "stream",
     "text": [
      "Animal created\n"
     ]
    },
    {
     "ename": "NotImplementedError",
     "evalue": "Subclass must implement this method",
     "output_type": "error",
     "traceback": [
      "\u001b[1;31m---------------------------------------------------------------------------\u001b[0m",
      "\u001b[1;31mNotImplementedError\u001b[0m                       Traceback (most recent call last)",
      "Cell \u001b[1;32mIn[68], line 2\u001b[0m\n\u001b[0;32m      1\u001b[0m animal \u001b[38;5;241m=\u001b[39m Animal()\n\u001b[1;32m----> 2\u001b[0m animal\u001b[38;5;241m.\u001b[39meat()\n",
      "Cell \u001b[1;32mIn[65], line 12\u001b[0m, in \u001b[0;36mAnimal.eat\u001b[1;34m(self)\u001b[0m\n\u001b[0;32m     11\u001b[0m \u001b[38;5;28;01mdef\u001b[39;00m \u001b[38;5;21meat\u001b[39m(\u001b[38;5;28mself\u001b[39m):\n\u001b[1;32m---> 12\u001b[0m     \u001b[38;5;28;01mraise\u001b[39;00m \u001b[38;5;167;01mNotImplementedError\u001b[39;00m(\u001b[38;5;124m'\u001b[39m\u001b[38;5;124mSubclass must implement this method\u001b[39m\u001b[38;5;124m'\u001b[39m)\n",
      "\u001b[1;31mNotImplementedError\u001b[0m: Subclass must implement this method"
     ]
    }
   ],
   "source": [
    "animal = Animal()\n",
    "animal.eat()"
   ]
  },
  {
   "cell_type": "code",
   "execution_count": 71,
   "metadata": {},
   "outputs": [
    {
     "name": "stdout",
     "output_type": "stream",
     "text": [
      "Animal created\n",
      "Dog created\n",
      "Dog eat\n"
     ]
    }
   ],
   "source": [
    "dog = Dog()\n",
    "dog.eat()"
   ]
  },
  {
   "cell_type": "code",
   "execution_count": 72,
   "metadata": {},
   "outputs": [
    {
     "name": "stdout",
     "output_type": "stream",
     "text": [
      "Animal created\n",
      "Cat created\n",
      "Cat eat Fish\n",
      "This is a cat. Which eat Fish and do Meow.\n"
     ]
    }
   ],
   "source": [
    "cat = Cat()\n",
    "cat.eat()\n",
    "print(cat)"
   ]
  },
  {
   "cell_type": "code",
   "execution_count": 73,
   "metadata": {},
   "outputs": [
    {
     "name": "stdout",
     "output_type": "stream",
     "text": [
      "3 Feet\n"
     ]
    },
    {
     "data": {
      "text/plain": [
       "3"
      ]
     },
     "execution_count": 73,
     "metadata": {},
     "output_type": "execute_result"
    }
   ],
   "source": [
    "len(dog)"
   ]
  },
  {
   "cell_type": "code",
   "execution_count": 74,
   "metadata": {},
   "outputs": [],
   "source": [
    "# For Garbage collection\n",
    "del dog"
   ]
  },
  {
   "cell_type": "code",
   "execution_count": 75,
   "metadata": {},
   "outputs": [
    {
     "ename": "NameError",
     "evalue": "name 'dog' is not defined",
     "output_type": "error",
     "traceback": [
      "\u001b[1;31m---------------------------------------------------------------------------\u001b[0m",
      "\u001b[1;31mNameError\u001b[0m                                 Traceback (most recent call last)",
      "Cell \u001b[1;32mIn[75], line 1\u001b[0m\n\u001b[1;32m----> 1\u001b[0m \u001b[38;5;28mprint\u001b[39m(dog)\n",
      "\u001b[1;31mNameError\u001b[0m: name 'dog' is not defined"
     ]
    }
   ],
   "source": [
    "print(dog)"
   ]
  },
  {
   "cell_type": "code",
   "execution_count": null,
   "metadata": {},
   "outputs": [],
   "source": []
  }
 ],
 "metadata": {
  "kernelspec": {
   "display_name": "Python 3 (ipykernel)",
   "language": "python",
   "name": "python3"
  },
  "language_info": {
   "codemirror_mode": {
    "name": "ipython",
    "version": 3
   },
   "file_extension": ".py",
   "mimetype": "text/x-python",
   "name": "python",
   "nbconvert_exporter": "python",
   "pygments_lexer": "ipython3",
   "version": "3.11.5"
  }
 },
 "nbformat": 4,
 "nbformat_minor": 4
}
