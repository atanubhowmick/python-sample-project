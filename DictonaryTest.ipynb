{
 "cells": [
  {
   "cell_type": "code",
   "execution_count": 1,
   "metadata": {},
   "outputs": [],
   "source": [
    "# Dictonary"
   ]
  },
  {
   "cell_type": "code",
   "execution_count": 8,
   "metadata": {},
   "outputs": [],
   "source": [
    "myDictonary = {10:'Value1', 'k2':'value2', 'k3':123}"
   ]
  },
  {
   "cell_type": "code",
   "execution_count": 9,
   "metadata": {
    "scrolled": true
   },
   "outputs": [
    {
     "name": "stdout",
     "output_type": "stream",
     "text": [
      "Value1\n",
      "123\n",
      "Value1\n",
      "value2\n"
     ]
    }
   ],
   "source": [
    "# Access elements\n",
    "\n",
    "print(myDictonary[10])\n",
    "print(myDictonary['k3'])\n",
    "\n",
    "print(myDictonary.get(10))\n",
    "print(myDictonary.get('k2'))\n"
   ]
  },
  {
   "cell_type": "code",
   "execution_count": 21,
   "metadata": {},
   "outputs": [
    {
     "name": "stdout",
     "output_type": "stream",
     "text": [
      "{'key1': ['a', 1, 2], 'key2': 'Hi', 'key3': {'ink1': 1, 'ink2': 2}}\n",
      "2\n"
     ]
    }
   ],
   "source": [
    "# Dictonary holds different data types\n",
    "dictonaryNew = {\"key1\":['a',1,2], \"key2\":'Hi', 'key3':{'ink1':1, 'ink2':2}}\n",
    "\n",
    "print(dictonaryNew) \n",
    "print(dictonaryNew['key3']['ink2'])"
   ]
  },
  {
   "cell_type": "code",
   "execution_count": 22,
   "metadata": {},
   "outputs": [
    {
     "name": "stdout",
     "output_type": "stream",
     "text": [
      "{'key1': ['a', 1, 2], 'key2': 'Hi', 'key3': {'ink1': 1, 'ink2': 2}, 'key4': [11, 12.12, 20]}\n",
      "{'key1': ['a', 1, 2], 'key2': 'Hi', 'key3': 'Test', 'key4': [11, 12.12, 20]}\n",
      "{'key1': ['a', 1, 2], 'key2': 'Hello', 'key3': 'Test', 'key4': [11, 12.12, 20]}\n"
     ]
    }
   ],
   "source": [
    "# Add / Update element in dictonary\n",
    "\n",
    "dictonaryNew['key4'] = [11, 12.12, 20]\n",
    "print(dictonaryNew)\n",
    "\n",
    "dictonaryNew['key3'] = \"Test\"\n",
    "print(dictonaryNew)\n",
    "\n",
    "dictonaryNew.update({\"key2\": 'Hello'})\n",
    "print(dictonaryNew)"
   ]
  },
  {
   "cell_type": "code",
   "execution_count": 2,
   "metadata": {},
   "outputs": [
    {
     "name": "stdout",
     "output_type": "stream",
     "text": [
      "Keys dict_keys(['key1', 'key2', 'key3'])\n",
      "Values dict_values([['a', 1, 2], 'Hi', {'ink1': 1, 'ink2': 2}])\n"
     ]
    }
   ],
   "source": [
    "# Get Keys\n",
    "keys = dictonaryNew.keys()\n",
    "values = dictonaryNew.values()\n",
    "\n",
    "print(\"Keys\", keys)\n",
    "print(\"Values\", values)"
   ]
  },
  {
   "cell_type": "code",
   "execution_count": 15,
   "metadata": {},
   "outputs": [
    {
     "name": "stdout",
     "output_type": "stream",
     "text": [
      "dict_items([('a', 1), ('b', 2), ('c', 3), ('d', 4), ('e', 5)])\n",
      "a 1\n",
      "b 4\n",
      "c 9\n",
      "d 16\n",
      "e 25\n"
     ]
    }
   ],
   "source": [
    "# Items method\n",
    "dict = {\"a\" : 1, \"b\" : 2, \"c\" : 3, \"d\" : 4, \"e\" : 5}\n",
    "print(dict.items())\n",
    "\n",
    "for k,v in dict.items():\n",
    "    print(k, v*v)"
   ]
  },
  {
   "cell_type": "code",
   "execution_count": 5,
   "metadata": {},
   "outputs": [
    {
     "name": "stdout",
     "output_type": "stream",
     "text": [
      "{'name': 'John', 'age': 36, 'country': 'Norway'}\n"
     ]
    }
   ],
   "source": [
    "#Constructor\n",
    "thisdict = dict(name = \"John\", age = 36, country = \"Norway\")\n",
    "print(thisdict)"
   ]
  },
  {
   "cell_type": "code",
   "execution_count": 18,
   "metadata": {},
   "outputs": [
    {
     "name": "stdout",
     "output_type": "stream",
     "text": [
      "present\n"
     ]
    }
   ],
   "source": [
    "# Check if Key Exists\n",
    "if \"b\" in dict:\n",
    "    print(\"present\")\n",
    "else:\n",
    "    print(\"not present\")"
   ]
  },
  {
   "cell_type": "code",
   "execution_count": 37,
   "metadata": {},
   "outputs": [
    {
     "name": "stdout",
     "output_type": "stream",
     "text": [
      "{'a': 1, 'c': 3, 'd': 4, 'e': 5, 'f': 6, 'g': 7}\n",
      "4\n",
      "{'a': 1, 'c': 3, 'e': 5, 'f': 6, 'g': 7}\n",
      "('g', 7)\n",
      "{'a': 1, 'c': 3, 'e': 5, 'f': 6}\n",
      "{}\n"
     ]
    }
   ],
   "source": [
    "# Delete Item\n",
    "\n",
    "dict = {\"a\" : 1, \"b\" : 2, \"c\" : 3, \"d\" : 4, \"e\" : 5, \"f\" : 6, \"g\": 7}\n",
    "\n",
    "del dict[\"b\"]\n",
    "print(dict)\n",
    "\n",
    "pop = dict.pop(\"d\")\n",
    "print(pop)\n",
    "print(dict)\n",
    "\n",
    "pop = dict.popitem()\n",
    "print(pop)\n",
    "print(dict)\n",
    "\n",
    "dict.clear()\n",
    "print(dict)"
   ]
  },
  {
   "cell_type": "code",
   "execution_count": 41,
   "metadata": {},
   "outputs": [
    {
     "name": "stdout",
     "output_type": "stream",
     "text": [
      "a\n",
      "b\n",
      "c\n",
      "d\n",
      "e\n",
      "---------------\n",
      "a\n",
      "b\n",
      "c\n",
      "d\n",
      "e\n",
      "---------------\n",
      "1\n",
      "2\n",
      "3\n",
      "4\n",
      "5\n",
      "---------------\n",
      "a 1\n",
      "b 2\n",
      "c 3\n",
      "d 4\n",
      "e 5\n"
     ]
    }
   ],
   "source": [
    "# Loop in Dictonary\n",
    "\n",
    "dict1 = {\"a\" : 1, \"b\" : 2, \"c\" : 3, \"d\" : 4, \"e\" : 5}\n",
    "\n",
    "for k in dict1:\n",
    "    print(k)\n",
    "\n",
    "print(\"---------------\")\n",
    "for key in dict1.keys():\n",
    "    print(key)\n",
    "    \n",
    "print(\"---------------\")\n",
    "for value in dict1.values():\n",
    "    print(value)\n",
    "    \n",
    "print(\"---------------\")\n",
    "for k,v in dict1.items():\n",
    "    print(k, v)\n",
    "    "
   ]
  },
  {
   "cell_type": "code",
   "execution_count": 45,
   "metadata": {},
   "outputs": [
    {
     "name": "stdout",
     "output_type": "stream",
     "text": [
      "{'a': 1, 'b': 2, 'c': 3}\n"
     ]
    }
   ],
   "source": [
    "# Copy\n",
    "dict1= {\"a\" : 1, \"b\" : 2, \"c\" : 3}\n",
    "\n",
    "dict2 = dict1.copy()\n",
    "print(dict2)"
   ]
  },
  {
   "cell_type": "code",
   "execution_count": null,
   "metadata": {},
   "outputs": [],
   "source": []
  }
 ],
 "metadata": {
  "kernelspec": {
   "display_name": "Python 3 (ipykernel)",
   "language": "python",
   "name": "python3"
  },
  "language_info": {
   "codemirror_mode": {
    "name": "ipython",
    "version": 3
   },
   "file_extension": ".py",
   "mimetype": "text/x-python",
   "name": "python",
   "nbconvert_exporter": "python",
   "pygments_lexer": "ipython3",
   "version": "3.11.5"
  }
 },
 "nbformat": 4,
 "nbformat_minor": 4
}
