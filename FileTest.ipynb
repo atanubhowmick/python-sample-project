{
 "cells": [
  {
   "cell_type": "code",
   "execution_count": 1,
   "metadata": {},
   "outputs": [
    {
     "name": "stdout",
     "output_type": "stream",
     "text": [
      "Writing myFile.txt\n"
     ]
    }
   ],
   "source": [
    "%%writefile myFile.txt\n",
    "Hello! This is my first file.\n",
    "Wring file in Pythin is easy.\n",
    "So let's start.."
   ]
  },
  {
   "cell_type": "code",
   "execution_count": 2,
   "metadata": {},
   "outputs": [],
   "source": [
    "myfile = open('myFile.txt')"
   ]
  },
  {
   "cell_type": "code",
   "execution_count": 3,
   "metadata": {},
   "outputs": [
    {
     "name": "stdout",
     "output_type": "stream",
     "text": [
      "<_io.TextIOWrapper name='myFile.txt' mode='r' encoding='cp1252'>\n"
     ]
    }
   ],
   "source": [
    "print(myfile)"
   ]
  },
  {
   "cell_type": "code",
   "execution_count": 4,
   "metadata": {},
   "outputs": [
    {
     "ename": "NameError",
     "evalue": "name 'anyfile' is not defined",
     "output_type": "error",
     "traceback": [
      "\u001b[1;31m---------------------------------------------------------------------------\u001b[0m",
      "\u001b[1;31mNameError\u001b[0m                                 Traceback (most recent call last)",
      "Cell \u001b[1;32mIn[4], line 2\u001b[0m\n\u001b[0;32m      1\u001b[0m \u001b[38;5;66;03m# Give error if file not exist\u001b[39;00m\n\u001b[1;32m----> 2\u001b[0m anyFile \u001b[38;5;241m=\u001b[39m \u001b[38;5;28mopen\u001b[39m(anyfile\u001b[38;5;241m.\u001b[39mtxt)\n",
      "\u001b[1;31mNameError\u001b[0m: name 'anyfile' is not defined"
     ]
    }
   ],
   "source": [
    "# Give error if file not exist\n",
    "anyFile = open(anyfile.txt)"
   ]
  },
  {
   "cell_type": "code",
   "execution_count": 5,
   "metadata": {},
   "outputs": [
    {
     "data": {
      "text/plain": [
       "\"Hello! This is my first file.\\nWring file in Pythin is easy.\\nSo let's start..\\n\""
      ]
     },
     "execution_count": 5,
     "metadata": {},
     "output_type": "execute_result"
    }
   ],
   "source": [
    "myfile.read()"
   ]
  },
  {
   "cell_type": "code",
   "execution_count": 6,
   "metadata": {},
   "outputs": [
    {
     "data": {
      "text/plain": [
       "''"
      ]
     },
     "execution_count": 6,
     "metadata": {},
     "output_type": "execute_result"
    }
   ],
   "source": [
    "# Curser is end of the file for reading 2nd time\n",
    "myfile.read()"
   ]
  },
  {
   "cell_type": "code",
   "execution_count": 7,
   "metadata": {},
   "outputs": [
    {
     "data": {
      "text/plain": [
       "\"Hello! This is my first file.\\nWring file in Pythin is easy.\\nSo let's start..\\n\""
      ]
     },
     "execution_count": 7,
     "metadata": {},
     "output_type": "execute_result"
    }
   ],
   "source": [
    "# Seek to perticular position\n",
    "myfile.seek(0)\n",
    "myfile.read()"
   ]
  },
  {
   "cell_type": "code",
   "execution_count": 8,
   "metadata": {},
   "outputs": [
    {
     "data": {
      "text/plain": [
       "['Hello! This is my first file.\\n',\n",
       " 'Wring file in Pythin is easy.\\n',\n",
       " \"So let's start..\\n\"]"
      ]
     },
     "execution_count": 8,
     "metadata": {},
     "output_type": "execute_result"
    }
   ],
   "source": [
    "myfile.seek(0)\n",
    "myfile.readlines()"
   ]
  },
  {
   "cell_type": "code",
   "execution_count": 9,
   "metadata": {},
   "outputs": [
    {
     "data": {
      "text/plain": [
       "'C:\\\\Users\\\\ATANU'"
      ]
     },
     "execution_count": 9,
     "metadata": {},
     "output_type": "execute_result"
    }
   ],
   "source": [
    "pwd"
   ]
  },
  {
   "cell_type": "code",
   "execution_count": 10,
   "metadata": {},
   "outputs": [],
   "source": [
    "myPythonFile = open('C:\\\\Atanu\\\\Python\\\\Code\\\\HelloWorld.py')"
   ]
  },
  {
   "cell_type": "code",
   "execution_count": 11,
   "metadata": {},
   "outputs": [
    {
     "data": {
      "text/plain": [
       "\"print('Hello world')\\n\\nfrom my_hello import say_hello\\nsay_hello()\\n\\n# Package\\nfrom mypackage.subpackage.sub_pkg_test import get_pkg_details\\nget_pkg_details()\\n\\n# Import specific function\\nfrom mypackage.subpackage import sub_pkg_test\\nsub_pkg_test.get_pkg_details()\\n\\nif __name__ == '__main__':\\n    print('This py script is running directly')\\nelse:\\n    print('This is a import method call')\""
      ]
     },
     "execution_count": 11,
     "metadata": {},
     "output_type": "execute_result"
    }
   ],
   "source": [
    "myPythonFile.read()"
   ]
  },
  {
   "cell_type": "code",
   "execution_count": 12,
   "metadata": {},
   "outputs": [],
   "source": [
    "myfile.close()"
   ]
  },
  {
   "cell_type": "code",
   "execution_count": 13,
   "metadata": {},
   "outputs": [],
   "source": [
    "myPythonFile.close()"
   ]
  },
  {
   "cell_type": "code",
   "execution_count": 34,
   "metadata": {},
   "outputs": [],
   "source": [
    "# No need to close\n",
    "with open('myFile.txt') as myNewFile: \n",
    "    contents = myNewFile.read()"
   ]
  },
  {
   "cell_type": "code",
   "execution_count": 35,
   "metadata": {},
   "outputs": [
    {
     "name": "stdout",
     "output_type": "stream",
     "text": [
      "Hello! This is my first file.\n",
      "Wring file in Pythin is easy.\n",
      "So let's start..\n",
      "\n"
     ]
    }
   ],
   "source": [
    "print(contents)"
   ]
  },
  {
   "cell_type": "code",
   "execution_count": 40,
   "metadata": {},
   "outputs": [],
   "source": [
    "# Reading mode. Shift + Tab for function info in Python\n",
    "with open('myFile.txt', mode='r') as myNewFile:\n",
    "    contents = myNewFile.read()"
   ]
  },
  {
   "cell_type": "code",
   "execution_count": 38,
   "metadata": {},
   "outputs": [
    {
     "name": "stdout",
     "output_type": "stream",
     "text": [
      "Hello! This is my first file.\n",
      "Wring file in Pythin is easy.\n",
      "So let's start..\n",
      "\n"
     ]
    }
   ],
   "source": [
    "print(contents)"
   ]
  },
  {
   "cell_type": "code",
   "execution_count": 54,
   "metadata": {},
   "outputs": [
    {
     "name": "stdout",
     "output_type": "stream",
     "text": [
      "Overwriting myNewFile.txt\n"
     ]
    }
   ],
   "source": [
    "%%writefile myNewFile.txt\n",
    "Hello! We are going to learn how to edit file.\n",
    "There are modes to edit file. Eg - r, w, a, r+, w+."
   ]
  },
  {
   "cell_type": "code",
   "execution_count": 55,
   "metadata": {},
   "outputs": [
    {
     "name": "stdout",
     "output_type": "stream",
     "text": [
      "Hello! We are going to learn how to edit file.\n",
      "There are modes to edit file. Eg - r, w, a, r+, w+.\n",
      "\n"
     ]
    }
   ],
   "source": [
    "with open('myNewFile.txt', mode='r') as editFile:\n",
    "    print(editFile.read())"
   ]
  },
  {
   "cell_type": "code",
   "execution_count": 58,
   "metadata": {},
   "outputs": [],
   "source": [
    "with open('myNewFile.txt', mode='a') as editFile:\n",
    "    editFile.write(\"\\nApending with mode 'a'. With this mode text will be append at the end.\")"
   ]
  },
  {
   "cell_type": "code",
   "execution_count": 59,
   "metadata": {},
   "outputs": [
    {
     "name": "stdout",
     "output_type": "stream",
     "text": [
      "Hello! We are going to learn how to edit file.\n",
      "There are modes to edit file. Eg - r, w, a, r+, w+.\n",
      "\n",
      "Apending with mode 'a'\n",
      "Apending with mode 'a'. With this mode text will be append at the end.\n"
     ]
    }
   ],
   "source": [
    "with open('myNewFile.txt', mode='r') as editFile:\n",
    "    print(editFile.read())"
   ]
  },
  {
   "cell_type": "code",
   "execution_count": 62,
   "metadata": {},
   "outputs": [],
   "source": [
    "with open('myNewFile.txt', mode='w') as editFile:\n",
    "    editFile.write(\"\\nWriting with mode 'w'. With this mode File will be overriden completely.\")"
   ]
  },
  {
   "cell_type": "code",
   "execution_count": 63,
   "metadata": {},
   "outputs": [
    {
     "name": "stdout",
     "output_type": "stream",
     "text": [
      "\n",
      "Writing with mode 'w'. With this mode File will be overriden completely.\n"
     ]
    }
   ],
   "source": [
    "with open('myNewFile.txt', mode='r') as editFile:\n",
    "    print(editFile.read())"
   ]
  },
  {
   "cell_type": "code",
   "execution_count": 65,
   "metadata": {},
   "outputs": [
    {
     "name": "stdout",
     "output_type": "stream",
     "text": [
      "<_io.TextIOWrapper name='myFile.txt' mode='w' encoding='cp1252'>\n"
     ]
    }
   ],
   "source": [
    "# This will give error\n",
    "x = open('myFile.txt','w')\n",
    "x.write('Ha ha')\n",
    "x.close()\n",
    "print(x)"
   ]
  },
  {
   "cell_type": "code",
   "execution_count": null,
   "metadata": {},
   "outputs": [],
   "source": []
  }
 ],
 "metadata": {
  "kernelspec": {
   "display_name": "Python 3 (ipykernel)",
   "language": "python",
   "name": "python3"
  },
  "language_info": {
   "codemirror_mode": {
    "name": "ipython",
    "version": 3
   },
   "file_extension": ".py",
   "mimetype": "text/x-python",
   "name": "python",
   "nbconvert_exporter": "python",
   "pygments_lexer": "ipython3",
   "version": "3.11.5"
  }
 },
 "nbformat": 4,
 "nbformat_minor": 4
}
