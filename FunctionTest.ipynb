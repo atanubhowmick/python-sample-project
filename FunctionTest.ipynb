{
 "cells": [
  {
   "cell_type": "code",
   "execution_count": 1,
   "metadata": {},
   "outputs": [],
   "source": [
    "myList = []"
   ]
  },
  {
   "cell_type": "code",
   "execution_count": 2,
   "metadata": {},
   "outputs": [
    {
     "name": "stdout",
     "output_type": "stream",
     "text": [
      "Help on built-in function insert:\n",
      "\n",
      "insert(index, object, /) method of builtins.list instance\n",
      "    Insert object before index.\n",
      "\n"
     ]
    }
   ],
   "source": [
    "help(myList.insert)"
   ]
  },
  {
   "cell_type": "code",
   "execution_count": 3,
   "metadata": {},
   "outputs": [],
   "source": [
    "# My function\n",
    "def hello():\n",
    "    '''\n",
    "    DOCSTRING: Information about the function\n",
    "    INPUT: No Input\n",
    "    OUTPUT: Hello!!\n",
    "    '''\n",
    "    print('Hello!!')"
   ]
  },
  {
   "cell_type": "code",
   "execution_count": 4,
   "metadata": {},
   "outputs": [
    {
     "name": "stdout",
     "output_type": "stream",
     "text": [
      "Hello!!\n"
     ]
    }
   ],
   "source": [
    "hello()"
   ]
  },
  {
   "cell_type": "code",
   "execution_count": 5,
   "metadata": {},
   "outputs": [],
   "source": [
    "# My function with some default value inside parameter\n",
    "def say_hello(name = 'MR/MS'):\n",
    "    '''\n",
    "    DOCSTRING: Information about the function\n",
    "    INPUT: Name\n",
    "    OUTPUT: Hello!!\n",
    "    '''\n",
    "    print('Hello ' + name + '!')"
   ]
  },
  {
   "cell_type": "code",
   "execution_count": 6,
   "metadata": {},
   "outputs": [
    {
     "name": "stdout",
     "output_type": "stream",
     "text": [
      "Hello MR/MS!\n",
      "Hello Atanu!\n"
     ]
    }
   ],
   "source": [
    "say_hello()\n",
    "say_hello('Atanu')"
   ]
  },
  {
   "cell_type": "code",
   "execution_count": 7,
   "metadata": {},
   "outputs": [],
   "source": [
    "def say_hello(name = 'MR/MS'):\n",
    "    return 'Hello ' + name + '!'"
   ]
  },
  {
   "cell_type": "code",
   "execution_count": 8,
   "metadata": {},
   "outputs": [
    {
     "name": "stdout",
     "output_type": "stream",
     "text": [
      "Hello MR/MS!\n",
      "Hello Atanu!\n"
     ]
    }
   ],
   "source": [
    "result = say_hello()\n",
    "print(result)\n",
    "\n",
    "result = say_hello('Atanu')\n",
    "print(result)"
   ]
  },
  {
   "cell_type": "code",
   "execution_count": 9,
   "metadata": {},
   "outputs": [],
   "source": [
    "def add (num1, num2):\n",
    "    return num1 + num2"
   ]
  },
  {
   "cell_type": "code",
   "execution_count": 10,
   "metadata": {},
   "outputs": [
    {
     "name": "stdout",
     "output_type": "stream",
     "text": [
      "15\n"
     ]
    }
   ],
   "source": [
    "result = add(5, 10)\n",
    "print(result)"
   ]
  },
  {
   "cell_type": "code",
   "execution_count": 11,
   "metadata": {},
   "outputs": [],
   "source": [
    "def string_check (myString):\n",
    "    return 'car' in myString.lower()"
   ]
  },
  {
   "cell_type": "code",
   "execution_count": 12,
   "metadata": {},
   "outputs": [
    {
     "name": "stdout",
     "output_type": "stream",
     "text": [
      "True\n",
      "True\n",
      "False\n"
     ]
    }
   ],
   "source": [
    "print(string_check('My Car run 100 KM/H'))\n",
    "print(string_check('My car run 100 KM/H'))\n",
    "print(string_check('My bike run 100 KM/H'))"
   ]
  },
  {
   "cell_type": "code",
   "execution_count": 13,
   "metadata": {},
   "outputs": [],
   "source": [
    "# Factorial function\n",
    "\n",
    "def factorial(n):\n",
    "    fact = 1\n",
    "    for i in range(1, n + 1):\n",
    "        fact *= i\n",
    "    return fact"
   ]
  },
  {
   "cell_type": "code",
   "execution_count": 14,
   "metadata": {},
   "outputs": [
    {
     "name": "stdout",
     "output_type": "stream",
     "text": [
      "7 factorial = 5040\n"
     ]
    }
   ],
   "source": [
    "num = 7\n",
    "factOfNum = factorial(num)\n",
    "print(num, \"factorial =\", factOfNum)"
   ]
  },
  {
   "cell_type": "code",
   "execution_count": 15,
   "metadata": {
    "scrolled": true
   },
   "outputs": [
    {
     "data": {
      "text/plain": [
       "20.0"
      ]
     },
     "execution_count": 15,
     "metadata": {},
     "output_type": "execute_result"
    }
   ],
   "source": [
    "def myfunc(a,b,c):\n",
    "    #Returns 10% of the sum af all parameters\n",
    "    #Sum of tupple\n",
    "    return sum((a,b,c))*0.1\n",
    "myfunc(40,60, 100)"
   ]
  },
  {
   "cell_type": "code",
   "execution_count": 16,
   "metadata": {},
   "outputs": [
    {
     "name": "stdout",
     "output_type": "stream",
     "text": [
      "3.0\n",
      "6.0\n",
      "10.0\n"
     ]
    }
   ],
   "source": [
    "# Optional Function - c,d,e optional\n",
    "\n",
    "def myfunc(a,b,c=0,d=0,e=0):\n",
    "    return sum((a,b,c,d,e))*0.1\n",
    "\n",
    "print(myfunc(10,20))\n",
    "print(myfunc(10,20,30))\n",
    "print(myfunc(10,20,30,40))"
   ]
  },
  {
   "cell_type": "code",
   "execution_count": 17,
   "metadata": {},
   "outputs": [
    {
     "name": "stdout",
     "output_type": "stream",
     "text": [
      "b\n"
     ]
    }
   ],
   "source": [
    "# Find by value in dictionary \n",
    "def find_key(dict, value):\n",
    "    key = \"\"\n",
    "    for k,v in dict.items():\n",
    "        if v == value :\n",
    "            key = k\n",
    "    return key\n",
    "\n",
    "d = {\"a\": 1, \"b\": 2, \"c\": 3}\n",
    "print(find_key(d, 2))"
   ]
  },
  {
   "cell_type": "code",
   "execution_count": 18,
   "metadata": {},
   "outputs": [
    {
     "name": "stdout",
     "output_type": "stream",
     "text": [
      "25\n",
      "100\n"
     ]
    }
   ],
   "source": [
    "# Lambda Function\n",
    "square = lambda n : n*n\n",
    "\n",
    "print(square(5))\n",
    "print(square(10))"
   ]
  },
  {
   "cell_type": "code",
   "execution_count": 19,
   "metadata": {},
   "outputs": [
    {
     "name": "stdout",
     "output_type": "stream",
     "text": [
      "2\n",
      "5\n"
     ]
    }
   ],
   "source": [
    "# Min function using lambda\n",
    "min = lambda x,y : x if(x < y) else y\n",
    "\n",
    "print(min(2, 4))\n",
    "print(min(10, 5))"
   ]
  },
  {
   "cell_type": "code",
   "execution_count": 20,
   "metadata": {},
   "outputs": [
    {
     "name": "stdout",
     "output_type": "stream",
     "text": [
      "[1, 4, 9, 16, 25]\n"
     ]
    }
   ],
   "source": [
    "# Square in a list using lambda\n",
    "\n",
    "squares = lambda n : [i*i for i in range (1, n + 1)]\n",
    "\n",
    "print(squares(5))"
   ]
  },
  {
   "cell_type": "code",
   "execution_count": 21,
   "metadata": {},
   "outputs": [
    {
     "name": "stdout",
     "output_type": "stream",
     "text": [
      "(10, 20, 30, 40, 50, 60, 70, 80, 90)\n"
     ]
    }
   ],
   "source": [
    "def myArgFunc(*args):\n",
    "    print(args)\n",
    "    \n",
    "myArgFunc(10,20,30,40,50,60,70,80,90)"
   ]
  },
  {
   "cell_type": "code",
   "execution_count": 22,
   "metadata": {},
   "outputs": [
    {
     "data": {
      "text/plain": [
       "3.0"
      ]
     },
     "execution_count": 22,
     "metadata": {},
     "output_type": "execute_result"
    }
   ],
   "source": [
    "def myArgSumFunc(*args):\n",
    "    return sum(args) * 0.1\n",
    "\n",
    "myArgSumFunc(10,20)"
   ]
  },
  {
   "cell_type": "code",
   "execution_count": 23,
   "metadata": {},
   "outputs": [],
   "source": [
    "# Keyword-args parameter in a function\n",
    "#It returns diconary\n",
    "def myKwargFunc(**kwargs):\n",
    "    print(kwargs)"
   ]
  },
  {
   "cell_type": "code",
   "execution_count": 24,
   "metadata": {},
   "outputs": [
    {
     "name": "stdout",
     "output_type": "stream",
     "text": [
      "{'fruit': 'Apple', 'animal': 'dog'}\n"
     ]
    }
   ],
   "source": [
    "myKwargFunc(fruit='Apple', animal = 'dog')"
   ]
  },
  {
   "cell_type": "code",
   "execution_count": 25,
   "metadata": {},
   "outputs": [
    {
     "name": "stdout",
     "output_type": "stream",
     "text": [
      "My fruit : Apple\n"
     ]
    }
   ],
   "source": [
    "# Keyword-args parameter in a function\n",
    "#It returns diconary\n",
    "def myKwargFunc(**kwargs):\n",
    "    if 'fruit' in kwargs:\n",
    "        print('My fruit : {}'.format(kwargs['fruit']))\n",
    "    else:\n",
    "        print(\"I don't have any fruit\")\n",
    "\n",
    "myKwargFunc(fruit='Apple', animal = 'dog')"
   ]
  },
  {
   "cell_type": "code",
   "execution_count": 26,
   "metadata": {},
   "outputs": [
    {
     "name": "stdout",
     "output_type": "stream",
     "text": [
      "(10, 20, 30)\n",
      "{'fruit': 'orange', 'food': 'eggs', 'animal': 'dog'}\n",
      "I would like 10 orange\n"
     ]
    }
   ],
   "source": [
    "def myCombinedFunc(*args, **kwargs):\n",
    "    print(args)\n",
    "    print(kwargs)\n",
    "    print('I would like {} {}'.format(args[0], kwargs['fruit']))\n",
    "    \n",
    "myCombinedFunc(10,20,30,fruit='orange',food='eggs',animal='dog')"
   ]
  },
  {
   "cell_type": "code",
   "execution_count": 27,
   "metadata": {},
   "outputs": [
    {
     "data": {
      "text/plain": [
       "[2, 4, 6, 8]"
      ]
     },
     "execution_count": 27,
     "metadata": {},
     "output_type": "execute_result"
    }
   ],
   "source": [
    "def myfunc(*args):\n",
    "    myList = []\n",
    "    for i in args:\n",
    "        if i%2==0:\n",
    "            myList.append(i)\n",
    "    return myList\n",
    "\n",
    "myfunc(2,4,6,5,3,8)"
   ]
  },
  {
   "cell_type": "code",
   "execution_count": 28,
   "metadata": {},
   "outputs": [
    {
     "name": "stdout",
     "output_type": "stream",
     "text": [
      "<map object at 0x000001D782D85CF0>\n",
      "[1, 4, 9, 16, 25]\n"
     ]
    }
   ],
   "source": [
    "def square(num):\n",
    "    return num ** 2\n",
    "\n",
    "myList = [1,2,3,4,5]\n",
    "\n",
    "m = map(square, myList)\n",
    "print(m)\n",
    "\n",
    "updatedList=list(m)\n",
    "print(updatedList)"
   ]
  },
  {
   "cell_type": "code",
   "execution_count": 29,
   "metadata": {},
   "outputs": [
    {
     "name": "stdout",
     "output_type": "stream",
     "text": [
      "1\n",
      "4\n",
      "9\n",
      "16\n",
      "25\n"
     ]
    }
   ],
   "source": [
    "#Iterate over map\n",
    "\n",
    "for item in map(square, myList):\n",
    "    print(item)"
   ]
  },
  {
   "cell_type": "code",
   "execution_count": 30,
   "metadata": {},
   "outputs": [
    {
     "data": {
      "text/plain": [
       "[2, 4]"
      ]
     },
     "execution_count": 30,
     "metadata": {},
     "output_type": "execute_result"
    }
   ],
   "source": [
    "def checkEven(num):\n",
    "    return num % 2 == 0\n",
    "\n",
    "myList = [1,2,3,4,5]\n",
    "\n",
    "filter(checkEven, myList)\n",
    "list(filter(checkEven, myList))"
   ]
  },
  {
   "cell_type": "code",
   "execution_count": 31,
   "metadata": {},
   "outputs": [
    {
     "data": {
      "text/plain": [
       "<map at 0x1d782d85bd0>"
      ]
     },
     "execution_count": 31,
     "metadata": {},
     "output_type": "execute_result"
    }
   ],
   "source": [
    "# Square using lambda\n",
    "map(lambda num:num**2, myList)"
   ]
  },
  {
   "cell_type": "code",
   "execution_count": 32,
   "metadata": {},
   "outputs": [
    {
     "data": {
      "text/plain": [
       "[1, 4, 9, 16, 25]"
      ]
     },
     "execution_count": 32,
     "metadata": {},
     "output_type": "execute_result"
    }
   ],
   "source": [
    "list(map(lambda num:num**2, myList))"
   ]
  },
  {
   "cell_type": "code",
   "execution_count": 33,
   "metadata": {},
   "outputs": [
    {
     "data": {
      "text/plain": [
       "[2, 4]"
      ]
     },
     "execution_count": 33,
     "metadata": {},
     "output_type": "execute_result"
    }
   ],
   "source": [
    "list(filter(lambda n:n%2==0, myList))"
   ]
  },
  {
   "cell_type": "code",
   "execution_count": 34,
   "metadata": {},
   "outputs": [
    {
     "name": "stdout",
     "output_type": "stream",
     "text": [
      "['AA', 'BB', 'CC']\n"
     ]
    }
   ],
   "source": [
    "myList = [\"aa\", \"bb\", \"cc\"]\n",
    "upperList = list(map(lambda word: word.upper(), myList))\n",
    "print(upperList)"
   ]
  },
  {
   "cell_type": "code",
   "execution_count": 35,
   "metadata": {},
   "outputs": [
    {
     "data": {
      "text/plain": [
       "[3, 7, 11, 15]"
      ]
     },
     "execution_count": 35,
     "metadata": {},
     "output_type": "execute_result"
    }
   ],
   "source": [
    "list1 = [(1,2) , (3, 4), (5,6), (7,8)]\n",
    "list(map(lambda x: sum(x), list1))"
   ]
  },
  {
   "cell_type": "code",
   "execution_count": 36,
   "metadata": {},
   "outputs": [
    {
     "name": "stdout",
     "output_type": "stream",
     "text": [
      "[('Anita', 18), ('Vinita', 63), ('Kanta', 12), ('Mehandi', 9)]\n",
      "[('Anita', 18), ('Vinita', 63)]\n"
     ]
    }
   ],
   "source": [
    "# Write a program that takes a list of dictionaries, where each dictionary contains a 'name' key and an 'age' key, \n",
    "# as input and returns a new list with only the dictionaries where the age is greater than or equal to 18 using \n",
    "# a lambda function with the filter() function.\n",
    "\n",
    "d1 = {'Anita': 18, 'Vinita': 63, 'Kanta': 12, 'Mehandi': 9} \n",
    "dict_list = list(d1.items()) \n",
    "print(dict_list)\n",
    "result = list(filter(lambda x: x[1] >= 18, dict_list)) \n",
    "print(result)"
   ]
  },
  {
   "cell_type": "code",
   "execution_count": 37,
   "metadata": {},
   "outputs": [
    {
     "name": "stdout",
     "output_type": "stream",
     "text": [
      "Enter name:Atanu\n",
      "Enter name:aaa\n",
      "Enter name:bbb\n",
      "Enter name:ccc\n",
      "Enter name:ddd\n",
      "[('Atanu', 5), ('aaa', 3), ('bbb', 3), ('ccc', 3), ('ddd', 3)]\n",
      "[]\n"
     ]
    }
   ],
   "source": [
    "# Write a program that takes a string from the user. Put the string and its length as a tuple. Create a list of such tuples, \n",
    "# where each tuple contains a string and its length. Return a new list with only the tuples where the string contains more \n",
    "# than 5 characters using a lambda function with the filter() function.\n",
    "\n",
    "list3 = []\n",
    "for n in range(5):\n",
    "    name = input(\"Enter name:\")\n",
    "    list3.append(tuple((name, len(name))))\n",
    "    \n",
    "print(list3)\n",
    "\n",
    "newList = list(filter(lambda x: x[1] > 5, list3))\n",
    "print(newList)"
   ]
  },
  {
   "cell_type": "code",
   "execution_count": 38,
   "metadata": {},
   "outputs": [
    {
     "name": "stdout",
     "output_type": "stream",
     "text": [
      "Enter five names\n",
      "Enter name:a\n",
      "Enter name:bb\n",
      "Enter name:ccc\n",
      "Enter name:ddddd\n",
      "Enter name:eeeeee\n",
      "['a', 'eeeeee']\n"
     ]
    }
   ],
   "source": [
    "# Write a program that takes a list of strings as input and returns a new list with only the strings that \n",
    "# start with a vowel using a lambda function with the filter() function.\n",
    "\n",
    "list4 = []\n",
    "\n",
    "print(\"Enter five names\")\n",
    "for n in range(5):\n",
    "    name = input(\"Enter name:\")\n",
    "    list4.append(name)\n",
    "    \n",
    "newList = list(filter(lambda x: x[0] in \"aeiouAEIOU\", list4))\n",
    "print(newList)"
   ]
  },
  {
   "cell_type": "code",
   "execution_count": null,
   "metadata": {},
   "outputs": [],
   "source": []
  }
 ],
 "metadata": {
  "kernelspec": {
   "display_name": "Python 3 (ipykernel)",
   "language": "python",
   "name": "python3"
  },
  "language_info": {
   "codemirror_mode": {
    "name": "ipython",
    "version": 3
   },
   "file_extension": ".py",
   "mimetype": "text/x-python",
   "name": "python",
   "nbconvert_exporter": "python",
   "pygments_lexer": "ipython3",
   "version": "3.11.5"
  }
 },
 "nbformat": 4,
 "nbformat_minor": 4
}
