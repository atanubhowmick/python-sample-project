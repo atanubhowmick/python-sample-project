{
 "cells": [
  {
   "cell_type": "code",
   "execution_count": 53,
   "metadata": {},
   "outputs": [
    {
     "name": "stdout",
     "output_type": "stream",
     "text": [
      "{'a'}\n"
     ]
    }
   ],
   "source": [
    "# Set contains conly unique elements\n",
    "mySet = set()\n",
    "mySet.add('a')\n",
    "print(mySet)"
   ]
  },
  {
   "cell_type": "code",
   "execution_count": 2,
   "metadata": {},
   "outputs": [],
   "source": []
  },
  {
   "cell_type": "code",
   "execution_count": 3,
   "metadata": {},
   "outputs": [
    {
     "data": {
      "text/plain": [
       "{'a'}"
      ]
     },
     "execution_count": 3,
     "metadata": {},
     "output_type": "execute_result"
    }
   ],
   "source": [
    "mySet"
   ]
  },
  {
   "cell_type": "code",
   "execution_count": 4,
   "metadata": {},
   "outputs": [],
   "source": [
    "mySet.add('b')"
   ]
  },
  {
   "cell_type": "code",
   "execution_count": 5,
   "metadata": {},
   "outputs": [],
   "source": [
    "mySet.add('b')"
   ]
  },
  {
   "cell_type": "code",
   "execution_count": 6,
   "metadata": {},
   "outputs": [
    {
     "name": "stdout",
     "output_type": "stream",
     "text": [
      "{'a', 'b'}\n"
     ]
    }
   ],
   "source": [
    "# contains only unique value\n",
    "print(mySet)"
   ]
  },
  {
   "cell_type": "code",
   "execution_count": 11,
   "metadata": {},
   "outputs": [],
   "source": [
    "myList = [1,3,2,1,4,2,5,7,5,6]"
   ]
  },
  {
   "cell_type": "code",
   "execution_count": 10,
   "metadata": {},
   "outputs": [
    {
     "data": {
      "text/plain": [
       "{1, 2, 3, 4, 5, 6, 7}"
      ]
     },
     "execution_count": 10,
     "metadata": {},
     "output_type": "execute_result"
    }
   ],
   "source": [
    "set(myList)"
   ]
  },
  {
   "cell_type": "code",
   "execution_count": 13,
   "metadata": {},
   "outputs": [
    {
     "name": "stdout",
     "output_type": "stream",
     "text": [
      "{16, 4, 20, 8, 24, 12}\n",
      "{4, 5, 8, 10, 12, 15, 16, 20, 24, 25}\n",
      "{4, 5, 8, 10, 12, 15, 16, 20, 24, 25}\n",
      "None\n"
     ]
    }
   ],
   "source": [
    "# Union\n",
    "set1 = {4, 8, 10, 12, 16, 20, 24}\n",
    "set2 = {5, 10, 15, 20, 25}\n",
    "\n",
    "set3 = set1.union(set2)\n",
    "print(set1) # No change\n",
    "print(set3)\n",
    "\n",
    "print(\"Testing union update\")\n",
    "set4 = set1.update(set2)\n",
    "print(set1) # inplace\n",
    "print(set4)"
   ]
  },
  {
   "cell_type": "code",
   "execution_count": 1,
   "metadata": {},
   "outputs": [
    {
     "name": "stdout",
     "output_type": "stream",
     "text": [
      "{16, 4, 20, 8, 24, 12}\n",
      "{20}\n",
      "Testing intersection update\n",
      "{20}\n",
      "None\n"
     ]
    }
   ],
   "source": [
    "# Intersection\n",
    "set1 = {4, 8, 12, 16, 20, 24}\n",
    "set2 = {5, 10, 15, 20, 25}\n",
    "\n",
    "set3 = set1.intersection(set2)\n",
    "print(set1) # No change\n",
    "print(set3)\n",
    "\n",
    "# Intersection Update - happens inplace\n",
    "print(\"Testing intersection update\")\n",
    "set4 = set1.intersection_update(set2)\n",
    "print(set1) # Inplace\n",
    "print(set4)"
   ]
  },
  {
   "cell_type": "code",
   "execution_count": 3,
   "metadata": {},
   "outputs": [
    {
     "name": "stdout",
     "output_type": "stream",
     "text": [
      "{4, 8, 12, 16, 24}\n",
      "Testing difference update\n",
      "{16, 4, 8, 24, 12}\n",
      "None\n"
     ]
    }
   ],
   "source": [
    "# Difference - keeps the elements from first set which are not present in second set\n",
    "set1 = {4, 8, 12, 16, 20, 24}\n",
    "set2 = {5, 10, 15, 20, 25}\n",
    "\n",
    "set3 = set1.difference(set2)\n",
    "print(set3)\n",
    "\n",
    "# Intersection Update\n",
    "print(\"Testing difference update\")\n",
    "set4 = set1.difference_update(set2)\n",
    "print(set1)  # inplace\n",
    "print(set4)"
   ]
  },
  {
   "cell_type": "code",
   "execution_count": 26,
   "metadata": {},
   "outputs": [
    {
     "name": "stdout",
     "output_type": "stream",
     "text": [
      "Testing symmetric difference\n",
      "{16, 4, 20, 8, 24, 10, 12}\n",
      "{4, 5, 8, 12, 15, 16, 24, 25}\n"
     ]
    }
   ],
   "source": [
    "# Intersection Update - keep only the elements that are NOT present in both sets\n",
    "set1 = {4, 8, 10, 12, 16, 20, 24}\n",
    "set2 = {5, 10, 15, 20, 25}\n",
    "\n",
    "print(\"Testing symmetric difference\")\n",
    "set5 = set1.symmetric_difference(set2)\n",
    "print(set1)  # inplace\n",
    "print(set5)"
   ]
  },
  {
   "cell_type": "code",
   "execution_count": 50,
   "metadata": {
    "scrolled": true
   },
   "outputs": [
    {
     "name": "stdout",
     "output_type": "stream",
     "text": [
      "{1, 2, 4, 6, 8, 9, 13, 17, 19, 25, 26, 28, 29, 30, 34, 35, 37, 42, 48, 49}\n",
      "{1, 2, 6, 7, 8, 9, 14, 16, 18, 23, 26, 32, 35, 37, 39, 40, 43, 44, 45, 47, 48, 49}\n"
     ]
    }
   ],
   "source": [
    "# Problem 1\n",
    "NLP = [1,4,6,2,2,8,9,13,17,19,25,28,26,26,30,37,35,34,48,29,49,42,48] \n",
    "NNDL = [1,2,6,8,9,45,23,7,14,18,53,16,35,39,60,40,47,49,48,48,32,37,39,44,43,26]\n",
    "\n",
    "for x in NLP:\n",
    "    if x > 50:\n",
    "        NLP.remove(x)\n",
    "        \n",
    "for x in NNDL:\n",
    "    if x > 50:\n",
    "        NNDL.remove(x)\n",
    "\n",
    "nlplSet = set(NLP)\n",
    "print(nlplSet)\n",
    "\n",
    "nndlSet = set(NNDL)\n",
    "print(nndlSet)"
   ]
  },
  {
   "cell_type": "code",
   "execution_count": 51,
   "metadata": {},
   "outputs": [
    {
     "name": "stdout",
     "output_type": "stream",
     "text": [
      "{4, 13, 17, 19, 25, 28, 29, 30, 34, 42}\n"
     ]
    }
   ],
   "source": [
    "nlplSet.difference_update(nndlSet)\n",
    "print(nlplSet)"
   ]
  },
  {
   "cell_type": "code",
   "execution_count": 52,
   "metadata": {},
   "outputs": [
    {
     "name": "stdout",
     "output_type": "stream",
     "text": [
      "{3, 4, 5, 10, 11, 12, 13, 15, 17, 19, 20, 21, 22, 24, 25, 27, 28, 29, 30, 31, 33, 34, 38, 42, 46}\n",
      "{1, 2, 6, 7, 8, 9, 14, 16, 18, 23, 26, 32, 35, 36, 37, 39, 40, 41, 43, 44, 45, 47, 48, 49, 50}\n"
     ]
    }
   ],
   "source": [
    "for i in range(1, 51):\n",
    "    if i not in nlplSet and i not in nndlSet:\n",
    "        if len(nlplSet) > len(nndlSet):\n",
    "            nndlSet.add(i)\n",
    "        else:\n",
    "            nlplSet.add(i)\n",
    "        \n",
    "print(nlplSet)\n",
    "print(nndlSet)"
   ]
  },
  {
   "cell_type": "code",
   "execution_count": null,
   "metadata": {},
   "outputs": [],
   "source": []
  }
 ],
 "metadata": {
  "kernelspec": {
   "display_name": "Python 3 (ipykernel)",
   "language": "python",
   "name": "python3"
  },
  "language_info": {
   "codemirror_mode": {
    "name": "ipython",
    "version": 3
   },
   "file_extension": ".py",
   "mimetype": "text/x-python",
   "name": "python",
   "nbconvert_exporter": "python",
   "pygments_lexer": "ipython3",
   "version": "3.11.5"
  }
 },
 "nbformat": 4,
 "nbformat_minor": 4
}
