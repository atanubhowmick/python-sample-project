{
 "cells": [
  {
   "cell_type": "code",
   "execution_count": 4,
   "metadata": {},
   "outputs": [],
   "source": [
    "x = 25\n",
    "def printer():\n",
    "    x = 50\n",
    "    print(x)"
   ]
  },
  {
   "cell_type": "code",
   "execution_count": 5,
   "metadata": {},
   "outputs": [
    {
     "name": "stdout",
     "output_type": "stream",
     "text": [
      "25\n",
      "50\n",
      "25\n"
     ]
    }
   ],
   "source": [
    "print(x)\n",
    "printer()\n",
    "print(x)"
   ]
  },
  {
   "cell_type": "code",
   "execution_count": 19,
   "metadata": {},
   "outputs": [
    {
     "name": "stdout",
     "output_type": "stream",
     "text": [
      "Inside sayHello - Welcome to C++\n",
      "Inside greet - Welcome to Java\n",
      "Outside of al fun - Welcome to Python\n"
     ]
    }
   ],
   "source": [
    "name = 'Python'\n",
    "def greet():\n",
    "    name = 'Java'\n",
    "    def sayHello():\n",
    "        name = 'C++'\n",
    "        print('Inside sayHello - Welcome to ' + name)\n",
    "    sayHello()\n",
    "    print('Inside greet - Welcome to ' + name)\n",
    "greet()\n",
    "\n",
    "print('Outside of al fun - Welcome to ' + name)"
   ]
  },
  {
   "cell_type": "code",
   "execution_count": 14,
   "metadata": {},
   "outputs": [
    {
     "name": "stdout",
     "output_type": "stream",
     "text": [
      "Hello Python\n",
      "Python\n"
     ]
    }
   ],
   "source": [
    "name = 'Python'\n",
    "def greet():\n",
    "    #name = 'Java'\n",
    "    def sayHello():\n",
    "        print('Hello ' + name)\n",
    "    sayHello()\n",
    "greet()\n",
    "\n",
    "print(name)"
   ]
  },
  {
   "cell_type": "code",
   "execution_count": 23,
   "metadata": {},
   "outputs": [],
   "source": [
    "x = 25\n",
    "def printer():\n",
    "    global x\n",
    "    x = 50\n",
    "    print(x)"
   ]
  },
  {
   "cell_type": "code",
   "execution_count": 24,
   "metadata": {},
   "outputs": [
    {
     "name": "stdout",
     "output_type": "stream",
     "text": [
      "25\n",
      "50\n",
      "50\n"
     ]
    }
   ],
   "source": [
    "print(x)\n",
    "printer()\n",
    "print(x)"
   ]
  },
  {
   "cell_type": "code",
   "execution_count": null,
   "metadata": {},
   "outputs": [],
   "source": []
  }
 ],
 "metadata": {
  "kernelspec": {
   "display_name": "Python 3 (ipykernel)",
   "language": "python",
   "name": "python3"
  },
  "language_info": {
   "codemirror_mode": {
    "name": "ipython",
    "version": 3
   },
   "file_extension": ".py",
   "mimetype": "text/x-python",
   "name": "python",
   "nbconvert_exporter": "python",
   "pygments_lexer": "ipython3",
   "version": "3.11.5"
  }
 },
 "nbformat": 4,
 "nbformat_minor": 4
}
